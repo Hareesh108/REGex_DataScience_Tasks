{
 "cells": [
  {
   "cell_type": "markdown",
   "metadata": {},
   "source": [
    "# TASK :2\n",
    "\n",
    "## Registration ID : CARSS6259\n",
    "\n",
    "## Name : Hareesh Devaba Bhittam"
   ]
  },
  {
   "cell_type": "code",
   "execution_count": 11,
   "metadata": {},
   "outputs": [
    {
     "name": "stdout",
     "output_type": "stream",
     "text": [
      "You\n"
     ]
    }
   ],
   "source": [
    "'''01. Write a lambda expression to extract first word of a string.'''\n",
    "\n",
    "n1 = lambda str: str.split()[0]\n",
    "str = (\"You are awesome\")\n",
    "print (n1(str))"
   ]
  },
  {
   "cell_type": "code",
   "execution_count": 12,
   "metadata": {},
   "outputs": [
    {
     "name": "stdout",
     "output_type": "stream",
     "text": [
      "My\n"
     ]
    }
   ],
   "source": [
    "'''02. Write a function to extract first word of s string (with many words separated by space).'''\n",
    "\n",
    "\n",
    "def extract_first (str):\n",
    "    return str.split ()[0]\n",
    "str = (\"My name is hareesh Devaba Bhittam\")\n",
    "print (extract_first(str))"
   ]
  },
  {
   "cell_type": "code",
   "execution_count": 3,
   "metadata": {},
   "outputs": [
    {
     "name": "stdout",
     "output_type": "stream",
     "text": [
      "['Hareesh', 'Prince', 'Parasu']\n"
     ]
    }
   ],
   "source": [
    "'''03. Extract the first word from every string from a list of strings by using map function.'''\n",
    "\n",
    "\n",
    "lst = [\"Hareesh Bhittam\", \"Prince bhittam\", \"Parasu Patil\"]\n",
    "f1 = list(map(lambda s: s.split()[0], lst))\n",
    "print(f1)"
   ]
  },
  {
   "cell_type": "code",
   "execution_count": 13,
   "metadata": {},
   "outputs": [
    {
     "name": "stdout",
     "output_type": "stream",
     "text": [
      "Enter the number: 100\n",
      "[2, 5]\n"
     ]
    }
   ],
   "source": [
    "'''04. Write a function to return a list of prime factors of a given number.'''\n",
    "\n",
    "\n",
    "def prime_factors(n):\n",
    "    lst = []\n",
    "    i = 2\n",
    "    while (i<=n):\n",
    "        if (n%i == 0):\n",
    "            lst.append(i)\n",
    "            n = n//i\n",
    "        else:\n",
    "            i+=1\n",
    "    return set (lst)\n",
    "n = int (input (\"Enter the number: \"))\n",
    "print (list(prime_factors(n)))"
   ]
  },
  {
   "cell_type": "code",
   "execution_count": 14,
   "metadata": {},
   "outputs": [
    {
     "name": "stdout",
     "output_type": "stream",
     "text": [
      "Enter Four numbers: 5 6 7 8\n",
      "7\n"
     ]
    }
   ],
   "source": [
    "'''05. Write a function that finds 2nd largest among 4 numbers (Repetitions are allowed, without sorting).'''\n",
    "\n",
    "n = input (\"Enter Four numbers: \")\n",
    "lst = n.split()\n",
    "lst = set(lst)\n",
    "def sec_large():\n",
    "    lst.remove(max(lst))\n",
    "    print(max(lst))\n",
    "sec_large()"
   ]
  },
  {
   "cell_type": "code",
   "execution_count": null,
   "metadata": {},
   "outputs": [],
   "source": []
  }
 ],
 "metadata": {
  "kernelspec": {
   "display_name": "Python 3",
   "language": "python",
   "name": "python3"
  },
  "language_info": {
   "codemirror_mode": {
    "name": "ipython",
    "version": 3
   },
   "file_extension": ".py",
   "mimetype": "text/x-python",
   "name": "python",
   "nbconvert_exporter": "python",
   "pygments_lexer": "ipython3",
   "version": "3.8.8"
  }
 },
 "nbformat": 4,
 "nbformat_minor": 4
}
