{
 "cells": [
  {
   "cell_type": "markdown",
   "id": "414c17c2",
   "metadata": {},
   "source": [
    "# Assignment Number 03\n",
    "\n",
    "Name : Hareesh Devaba Bhi"
   ]
  },
  {
   "cell_type": "markdown",
   "id": "e40e3758",
   "metadata": {},
   "source": [
    "## 1. Write a function to return nth term of Fibonacci sequence"
   ]
  },
  {
   "cell_type": "code",
   "execution_count": 1,
   "id": "9ff60197",
   "metadata": {},
   "outputs": [
    {
     "name": "stdout",
     "output_type": "stream",
     "text": [
      "Enter a number: 8\n",
      "8th term of Fibonacci series is 21\n"
     ]
    }
   ],
   "source": [
    "\n",
    "num = int(input(\"Enter a number: \"))\n",
    "def fibSr(n):\n",
    "  if n==1:\n",
    "    return 1\n",
    "  elif n==0:\n",
    "    return 0\n",
    "  else:\n",
    "    return fibSr(n-1)+fibSr(n-2)\n",
    "\n",
    "result=fibSr(num)\n",
    "print(\"{0}th term of Fibonacci series is {1}\".format(num,result))"
   ]
  },
  {
   "cell_type": "markdown",
   "id": "226610bb",
   "metadata": {},
   "source": [
    "# 2. Write a function to find out GCD of two numbers using EUCLID'S algorithm."
   ]
  },
  {
   "cell_type": "code",
   "execution_count": 2,
   "id": "f0be42be",
   "metadata": {},
   "outputs": [
    {
     "name": "stdout",
     "output_type": "stream",
     "text": [
      "Enter first number: 78\n",
      "Enter second number: 96\n",
      "GCD of 78 and 96 is 6\n"
     ]
    }
   ],
   "source": [
    "num1 = int(input(\"Enter first number: \"))\n",
    "num2 = int(input(\"Enter second number: \"))\n",
    "min1 = min(num1,num2)\n",
    "res = 1\n",
    "for i in range(2,min1+1):\n",
    "  if ((num1 % i==0) and (num2 % i==0)):\n",
    "    res=i\n",
    "\n",
    "print(\"GCD of {0} and {1} is {2}\".format(num1,num2,res))"
   ]
  },
  {
   "cell_type": "markdown",
   "id": "00ab200d",
   "metadata": {},
   "source": [
    "# #3. Write a function to find LCM of two number in most optimizers way."
   ]
  },
  {
   "cell_type": "code",
   "execution_count": 3,
   "id": "ae8348cc",
   "metadata": {},
   "outputs": [
    {
     "name": "stdout",
     "output_type": "stream",
     "text": [
      "Enter first number: 555\n",
      "Enter second number: 8888\n",
      "LCM of 555 and 8888 is 4932840\n"
     ]
    }
   ],
   "source": [
    "n1 = int(input(\"Enter first number: \"))\n",
    "n2 = int(input(\"Enter second number: \"))\n",
    "j = max(n1,n2)\n",
    "while(True):\n",
    "  if (j%n1==0) and (j%n2==0):\n",
    "    result=j\n",
    "    break\n",
    "  else:\n",
    "    j=j+1\n",
    "\n",
    "print(\"LCM of {0} and {1} is {2}\".format(n1,n2,result))"
   ]
  }
 ],
 "metadata": {
  "kernelspec": {
   "display_name": "Python 3",
   "language": "python",
   "name": "python3"
  },
  "language_info": {
   "codemirror_mode": {
    "name": "ipython",
    "version": 3
   },
   "file_extension": ".py",
   "mimetype": "text/x-python",
   "name": "python",
   "nbconvert_exporter": "python",
   "pygments_lexer": "ipython3",
   "version": "3.8.8"
  }
 },
 "nbformat": 4,
 "nbformat_minor": 5
}
