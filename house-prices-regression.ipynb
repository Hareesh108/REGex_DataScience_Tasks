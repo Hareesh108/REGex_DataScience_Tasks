{
 "cells": [
  {
   "cell_type": "markdown",
   "metadata": {},
   "source": [
    "# #Task-7.2\n",
    "## Name: Aftab Ahmed\n",
    "## Registration ID: SIRSS2310"
   ]
  },
  {
   "cell_type": "markdown",
   "metadata": {},
   "source": [
    "## Q2. Kaggle Competition"
   ]
  },
  {
   "cell_type": "markdown",
   "metadata": {},
   "source": [
    "### Importing libraries"
   ]
  },
  {
   "cell_type": "code",
   "execution_count": 1,
   "metadata": {
    "execution": {
     "iopub.execute_input": "2021-09-09T13:13:06.59954Z",
     "iopub.status.busy": "2021-09-09T13:13:06.599143Z",
     "iopub.status.idle": "2021-09-09T13:13:07.398422Z",
     "shell.execute_reply": "2021-09-09T13:13:07.397576Z",
     "shell.execute_reply.started": "2021-09-09T13:13:06.599462Z"
    }
   },
   "outputs": [],
   "source": [
    "import numpy as np\n",
    "import pandas as pd\n",
    "import matplotlib.pyplot as plt\n",
    "import seaborn as sns"
   ]
  },
  {
   "cell_type": "markdown",
   "metadata": {},
   "source": [
    "### Reading/loading the dataset"
   ]
  },
  {
   "cell_type": "code",
   "execution_count": 2,
   "metadata": {
    "execution": {
     "iopub.execute_input": "2021-09-09T13:13:07.400324Z",
     "iopub.status.busy": "2021-09-09T13:13:07.399922Z",
     "iopub.status.idle": "2021-09-09T13:13:07.468449Z",
     "shell.execute_reply": "2021-09-09T13:13:07.467699Z",
     "shell.execute_reply.started": "2021-09-09T13:13:07.400262Z"
    }
   },
   "outputs": [
    {
     "ename": "FileNotFoundError",
     "evalue": "[Errno 2] No such file or directory: '../input/house-prices-advanced-regression-techniques/train.csv'",
     "output_type": "error",
     "traceback": [
      "\u001b[1;31m---------------------------------------------------------------------------\u001b[0m",
      "\u001b[1;31mFileNotFoundError\u001b[0m                         Traceback (most recent call last)",
      "\u001b[1;32m<ipython-input-2-2d99dbae446b>\u001b[0m in \u001b[0;36m<module>\u001b[1;34m\u001b[0m\n\u001b[1;32m----> 1\u001b[1;33m \u001b[0mtrain_data\u001b[0m \u001b[1;33m=\u001b[0m \u001b[0mpd\u001b[0m\u001b[1;33m.\u001b[0m\u001b[0mread_csv\u001b[0m\u001b[1;33m(\u001b[0m\u001b[1;34m'../input/house-prices-advanced-regression-techniques/train.csv'\u001b[0m\u001b[1;33m)\u001b[0m\u001b[1;33m\u001b[0m\u001b[1;33m\u001b[0m\u001b[0m\n\u001b[0m\u001b[0;32m      2\u001b[0m \u001b[0mtest_data\u001b[0m \u001b[1;33m=\u001b[0m \u001b[0mpd\u001b[0m\u001b[1;33m.\u001b[0m\u001b[0mread_csv\u001b[0m\u001b[1;33m(\u001b[0m\u001b[1;34m'../input/house-prices-advanced-regression-techniques/test.csv'\u001b[0m\u001b[1;33m)\u001b[0m\u001b[1;33m\u001b[0m\u001b[1;33m\u001b[0m\u001b[0m\n",
      "\u001b[1;32mC:\\Anaconda\\lib\\site-packages\\pandas\\io\\parsers.py\u001b[0m in \u001b[0;36mread_csv\u001b[1;34m(filepath_or_buffer, sep, delimiter, header, names, index_col, usecols, squeeze, prefix, mangle_dupe_cols, dtype, engine, converters, true_values, false_values, skipinitialspace, skiprows, skipfooter, nrows, na_values, keep_default_na, na_filter, verbose, skip_blank_lines, parse_dates, infer_datetime_format, keep_date_col, date_parser, dayfirst, cache_dates, iterator, chunksize, compression, thousands, decimal, lineterminator, quotechar, quoting, doublequote, escapechar, comment, encoding, dialect, error_bad_lines, warn_bad_lines, delim_whitespace, low_memory, memory_map, float_precision, storage_options)\u001b[0m\n\u001b[0;32m    608\u001b[0m     \u001b[0mkwds\u001b[0m\u001b[1;33m.\u001b[0m\u001b[0mupdate\u001b[0m\u001b[1;33m(\u001b[0m\u001b[0mkwds_defaults\u001b[0m\u001b[1;33m)\u001b[0m\u001b[1;33m\u001b[0m\u001b[1;33m\u001b[0m\u001b[0m\n\u001b[0;32m    609\u001b[0m \u001b[1;33m\u001b[0m\u001b[0m\n\u001b[1;32m--> 610\u001b[1;33m     \u001b[1;32mreturn\u001b[0m \u001b[0m_read\u001b[0m\u001b[1;33m(\u001b[0m\u001b[0mfilepath_or_buffer\u001b[0m\u001b[1;33m,\u001b[0m \u001b[0mkwds\u001b[0m\u001b[1;33m)\u001b[0m\u001b[1;33m\u001b[0m\u001b[1;33m\u001b[0m\u001b[0m\n\u001b[0m\u001b[0;32m    611\u001b[0m \u001b[1;33m\u001b[0m\u001b[0m\n\u001b[0;32m    612\u001b[0m \u001b[1;33m\u001b[0m\u001b[0m\n",
      "\u001b[1;32mC:\\Anaconda\\lib\\site-packages\\pandas\\io\\parsers.py\u001b[0m in \u001b[0;36m_read\u001b[1;34m(filepath_or_buffer, kwds)\u001b[0m\n\u001b[0;32m    460\u001b[0m \u001b[1;33m\u001b[0m\u001b[0m\n\u001b[0;32m    461\u001b[0m     \u001b[1;31m# Create the parser.\u001b[0m\u001b[1;33m\u001b[0m\u001b[1;33m\u001b[0m\u001b[1;33m\u001b[0m\u001b[0m\n\u001b[1;32m--> 462\u001b[1;33m     \u001b[0mparser\u001b[0m \u001b[1;33m=\u001b[0m \u001b[0mTextFileReader\u001b[0m\u001b[1;33m(\u001b[0m\u001b[0mfilepath_or_buffer\u001b[0m\u001b[1;33m,\u001b[0m \u001b[1;33m**\u001b[0m\u001b[0mkwds\u001b[0m\u001b[1;33m)\u001b[0m\u001b[1;33m\u001b[0m\u001b[1;33m\u001b[0m\u001b[0m\n\u001b[0m\u001b[0;32m    463\u001b[0m \u001b[1;33m\u001b[0m\u001b[0m\n\u001b[0;32m    464\u001b[0m     \u001b[1;32mif\u001b[0m \u001b[0mchunksize\u001b[0m \u001b[1;32mor\u001b[0m \u001b[0miterator\u001b[0m\u001b[1;33m:\u001b[0m\u001b[1;33m\u001b[0m\u001b[1;33m\u001b[0m\u001b[0m\n",
      "\u001b[1;32mC:\\Anaconda\\lib\\site-packages\\pandas\\io\\parsers.py\u001b[0m in \u001b[0;36m__init__\u001b[1;34m(self, f, engine, **kwds)\u001b[0m\n\u001b[0;32m    817\u001b[0m             \u001b[0mself\u001b[0m\u001b[1;33m.\u001b[0m\u001b[0moptions\u001b[0m\u001b[1;33m[\u001b[0m\u001b[1;34m\"has_index_names\"\u001b[0m\u001b[1;33m]\u001b[0m \u001b[1;33m=\u001b[0m \u001b[0mkwds\u001b[0m\u001b[1;33m[\u001b[0m\u001b[1;34m\"has_index_names\"\u001b[0m\u001b[1;33m]\u001b[0m\u001b[1;33m\u001b[0m\u001b[1;33m\u001b[0m\u001b[0m\n\u001b[0;32m    818\u001b[0m \u001b[1;33m\u001b[0m\u001b[0m\n\u001b[1;32m--> 819\u001b[1;33m         \u001b[0mself\u001b[0m\u001b[1;33m.\u001b[0m\u001b[0m_engine\u001b[0m \u001b[1;33m=\u001b[0m \u001b[0mself\u001b[0m\u001b[1;33m.\u001b[0m\u001b[0m_make_engine\u001b[0m\u001b[1;33m(\u001b[0m\u001b[0mself\u001b[0m\u001b[1;33m.\u001b[0m\u001b[0mengine\u001b[0m\u001b[1;33m)\u001b[0m\u001b[1;33m\u001b[0m\u001b[1;33m\u001b[0m\u001b[0m\n\u001b[0m\u001b[0;32m    820\u001b[0m \u001b[1;33m\u001b[0m\u001b[0m\n\u001b[0;32m    821\u001b[0m     \u001b[1;32mdef\u001b[0m \u001b[0mclose\u001b[0m\u001b[1;33m(\u001b[0m\u001b[0mself\u001b[0m\u001b[1;33m)\u001b[0m\u001b[1;33m:\u001b[0m\u001b[1;33m\u001b[0m\u001b[1;33m\u001b[0m\u001b[0m\n",
      "\u001b[1;32mC:\\Anaconda\\lib\\site-packages\\pandas\\io\\parsers.py\u001b[0m in \u001b[0;36m_make_engine\u001b[1;34m(self, engine)\u001b[0m\n\u001b[0;32m   1048\u001b[0m             )\n\u001b[0;32m   1049\u001b[0m         \u001b[1;31m# error: Too many arguments for \"ParserBase\"\u001b[0m\u001b[1;33m\u001b[0m\u001b[1;33m\u001b[0m\u001b[1;33m\u001b[0m\u001b[0m\n\u001b[1;32m-> 1050\u001b[1;33m         \u001b[1;32mreturn\u001b[0m \u001b[0mmapping\u001b[0m\u001b[1;33m[\u001b[0m\u001b[0mengine\u001b[0m\u001b[1;33m]\u001b[0m\u001b[1;33m(\u001b[0m\u001b[0mself\u001b[0m\u001b[1;33m.\u001b[0m\u001b[0mf\u001b[0m\u001b[1;33m,\u001b[0m \u001b[1;33m**\u001b[0m\u001b[0mself\u001b[0m\u001b[1;33m.\u001b[0m\u001b[0moptions\u001b[0m\u001b[1;33m)\u001b[0m  \u001b[1;31m# type: ignore[call-arg]\u001b[0m\u001b[1;33m\u001b[0m\u001b[1;33m\u001b[0m\u001b[0m\n\u001b[0m\u001b[0;32m   1051\u001b[0m \u001b[1;33m\u001b[0m\u001b[0m\n\u001b[0;32m   1052\u001b[0m     \u001b[1;32mdef\u001b[0m \u001b[0m_failover_to_python\u001b[0m\u001b[1;33m(\u001b[0m\u001b[0mself\u001b[0m\u001b[1;33m)\u001b[0m\u001b[1;33m:\u001b[0m\u001b[1;33m\u001b[0m\u001b[1;33m\u001b[0m\u001b[0m\n",
      "\u001b[1;32mC:\\Anaconda\\lib\\site-packages\\pandas\\io\\parsers.py\u001b[0m in \u001b[0;36m__init__\u001b[1;34m(self, src, **kwds)\u001b[0m\n\u001b[0;32m   1865\u001b[0m \u001b[1;33m\u001b[0m\u001b[0m\n\u001b[0;32m   1866\u001b[0m         \u001b[1;31m# open handles\u001b[0m\u001b[1;33m\u001b[0m\u001b[1;33m\u001b[0m\u001b[1;33m\u001b[0m\u001b[0m\n\u001b[1;32m-> 1867\u001b[1;33m         \u001b[0mself\u001b[0m\u001b[1;33m.\u001b[0m\u001b[0m_open_handles\u001b[0m\u001b[1;33m(\u001b[0m\u001b[0msrc\u001b[0m\u001b[1;33m,\u001b[0m \u001b[0mkwds\u001b[0m\u001b[1;33m)\u001b[0m\u001b[1;33m\u001b[0m\u001b[1;33m\u001b[0m\u001b[0m\n\u001b[0m\u001b[0;32m   1868\u001b[0m         \u001b[1;32massert\u001b[0m \u001b[0mself\u001b[0m\u001b[1;33m.\u001b[0m\u001b[0mhandles\u001b[0m \u001b[1;32mis\u001b[0m \u001b[1;32mnot\u001b[0m \u001b[1;32mNone\u001b[0m\u001b[1;33m\u001b[0m\u001b[1;33m\u001b[0m\u001b[0m\n\u001b[0;32m   1869\u001b[0m         \u001b[1;32mfor\u001b[0m \u001b[0mkey\u001b[0m \u001b[1;32min\u001b[0m \u001b[1;33m(\u001b[0m\u001b[1;34m\"storage_options\"\u001b[0m\u001b[1;33m,\u001b[0m \u001b[1;34m\"encoding\"\u001b[0m\u001b[1;33m,\u001b[0m \u001b[1;34m\"memory_map\"\u001b[0m\u001b[1;33m,\u001b[0m \u001b[1;34m\"compression\"\u001b[0m\u001b[1;33m)\u001b[0m\u001b[1;33m:\u001b[0m\u001b[1;33m\u001b[0m\u001b[1;33m\u001b[0m\u001b[0m\n",
      "\u001b[1;32mC:\\Anaconda\\lib\\site-packages\\pandas\\io\\parsers.py\u001b[0m in \u001b[0;36m_open_handles\u001b[1;34m(self, src, kwds)\u001b[0m\n\u001b[0;32m   1360\u001b[0m         \u001b[0mLet\u001b[0m \u001b[0mthe\u001b[0m \u001b[0mreaders\u001b[0m \u001b[0mopen\u001b[0m \u001b[0mIOHanldes\u001b[0m \u001b[0mafter\u001b[0m \u001b[0mthey\u001b[0m \u001b[0mare\u001b[0m \u001b[0mdone\u001b[0m \u001b[1;32mwith\u001b[0m \u001b[0mtheir\u001b[0m \u001b[0mpotential\u001b[0m \u001b[0mraises\u001b[0m\u001b[1;33m.\u001b[0m\u001b[1;33m\u001b[0m\u001b[1;33m\u001b[0m\u001b[0m\n\u001b[0;32m   1361\u001b[0m         \"\"\"\n\u001b[1;32m-> 1362\u001b[1;33m         self.handles = get_handle(\n\u001b[0m\u001b[0;32m   1363\u001b[0m             \u001b[0msrc\u001b[0m\u001b[1;33m,\u001b[0m\u001b[1;33m\u001b[0m\u001b[1;33m\u001b[0m\u001b[0m\n\u001b[0;32m   1364\u001b[0m             \u001b[1;34m\"r\"\u001b[0m\u001b[1;33m,\u001b[0m\u001b[1;33m\u001b[0m\u001b[1;33m\u001b[0m\u001b[0m\n",
      "\u001b[1;32mC:\\Anaconda\\lib\\site-packages\\pandas\\io\\common.py\u001b[0m in \u001b[0;36mget_handle\u001b[1;34m(path_or_buf, mode, encoding, compression, memory_map, is_text, errors, storage_options)\u001b[0m\n\u001b[0;32m    640\u001b[0m                 \u001b[0merrors\u001b[0m \u001b[1;33m=\u001b[0m \u001b[1;34m\"replace\"\u001b[0m\u001b[1;33m\u001b[0m\u001b[1;33m\u001b[0m\u001b[0m\n\u001b[0;32m    641\u001b[0m             \u001b[1;31m# Encoding\u001b[0m\u001b[1;33m\u001b[0m\u001b[1;33m\u001b[0m\u001b[1;33m\u001b[0m\u001b[0m\n\u001b[1;32m--> 642\u001b[1;33m             handle = open(\n\u001b[0m\u001b[0;32m    643\u001b[0m                 \u001b[0mhandle\u001b[0m\u001b[1;33m,\u001b[0m\u001b[1;33m\u001b[0m\u001b[1;33m\u001b[0m\u001b[0m\n\u001b[0;32m    644\u001b[0m                 \u001b[0mioargs\u001b[0m\u001b[1;33m.\u001b[0m\u001b[0mmode\u001b[0m\u001b[1;33m,\u001b[0m\u001b[1;33m\u001b[0m\u001b[1;33m\u001b[0m\u001b[0m\n",
      "\u001b[1;31mFileNotFoundError\u001b[0m: [Errno 2] No such file or directory: '../input/house-prices-advanced-regression-techniques/train.csv'"
     ]
    }
   ],
   "source": [
    "train_data = pd.read_csv('../input/house-prices-advanced-regression-techniques/train.csv')\n",
    "test_data = pd.read_csv('../input/house-prices-advanced-regression-techniques/test.csv')"
   ]
  },
  {
   "cell_type": "code",
   "execution_count": null,
   "metadata": {
    "execution": {
     "iopub.execute_input": "2021-09-09T13:13:07.470285Z",
     "iopub.status.busy": "2021-09-09T13:13:07.470041Z",
     "iopub.status.idle": "2021-09-09T13:13:07.511121Z",
     "shell.execute_reply": "2021-09-09T13:13:07.510234Z",
     "shell.execute_reply.started": "2021-09-09T13:13:07.47026Z"
    }
   },
   "outputs": [],
   "source": [
    "train_data.head(10)"
   ]
  },
  {
   "cell_type": "code",
   "execution_count": null,
   "metadata": {
    "execution": {
     "iopub.execute_input": "2021-09-09T13:13:07.513198Z",
     "iopub.status.busy": "2021-09-09T13:13:07.512861Z",
     "iopub.status.idle": "2021-09-09T13:13:07.540803Z",
     "shell.execute_reply": "2021-09-09T13:13:07.539865Z",
     "shell.execute_reply.started": "2021-09-09T13:13:07.513163Z"
    }
   },
   "outputs": [],
   "source": [
    "test_data.head(10)"
   ]
  },
  {
   "cell_type": "code",
   "execution_count": null,
   "metadata": {
    "execution": {
     "iopub.execute_input": "2021-09-09T13:13:07.542889Z",
     "iopub.status.busy": "2021-09-09T13:13:07.542466Z",
     "iopub.status.idle": "2021-09-09T13:13:07.572043Z",
     "shell.execute_reply": "2021-09-09T13:13:07.571103Z",
     "shell.execute_reply.started": "2021-09-09T13:13:07.54285Z"
    }
   },
   "outputs": [],
   "source": [
    "train_data.info()"
   ]
  },
  {
   "cell_type": "code",
   "execution_count": null,
   "metadata": {
    "execution": {
     "iopub.execute_input": "2021-09-09T13:13:07.573631Z",
     "iopub.status.busy": "2021-09-09T13:13:07.573279Z",
     "iopub.status.idle": "2021-09-09T13:13:07.596939Z",
     "shell.execute_reply": "2021-09-09T13:13:07.596012Z",
     "shell.execute_reply.started": "2021-09-09T13:13:07.573598Z"
    }
   },
   "outputs": [],
   "source": [
    "test_data.info()"
   ]
  },
  {
   "cell_type": "code",
   "execution_count": null,
   "metadata": {
    "execution": {
     "iopub.execute_input": "2021-09-09T13:13:07.598448Z",
     "iopub.status.busy": "2021-09-09T13:13:07.598096Z",
     "iopub.status.idle": "2021-09-09T13:13:07.60457Z",
     "shell.execute_reply": "2021-09-09T13:13:07.603525Z",
     "shell.execute_reply.started": "2021-09-09T13:13:07.598415Z"
    }
   },
   "outputs": [],
   "source": [
    "print(train_data.shape)\n",
    "print(test_data.shape)"
   ]
  },
  {
   "cell_type": "code",
   "execution_count": null,
   "metadata": {
    "execution": {
     "iopub.execute_input": "2021-09-09T13:13:07.60831Z",
     "iopub.status.busy": "2021-09-09T13:13:07.607877Z",
     "iopub.status.idle": "2021-09-09T13:13:07.731944Z",
     "shell.execute_reply": "2021-09-09T13:13:07.731065Z",
     "shell.execute_reply.started": "2021-09-09T13:13:07.60827Z"
    }
   },
   "outputs": [],
   "source": [
    "train_data.describe()"
   ]
  },
  {
   "cell_type": "markdown",
   "metadata": {},
   "source": [
    "### Dealing with null values in train and test data"
   ]
  },
  {
   "cell_type": "code",
   "execution_count": null,
   "metadata": {
    "execution": {
     "iopub.execute_input": "2021-09-09T13:13:07.736907Z",
     "iopub.status.busy": "2021-09-09T13:13:07.73644Z",
     "iopub.status.idle": "2021-09-09T13:13:07.759649Z",
     "shell.execute_reply": "2021-09-09T13:13:07.758507Z",
     "shell.execute_reply.started": "2021-09-09T13:13:07.736871Z"
    }
   },
   "outputs": [],
   "source": [
    "pd.options.display.min_rows = 80\n",
    "train_data.isnull().sum().sort_values(ascending=False)"
   ]
  },
  {
   "cell_type": "code",
   "execution_count": null,
   "metadata": {
    "execution": {
     "iopub.execute_input": "2021-09-09T13:13:07.766457Z",
     "iopub.status.busy": "2021-09-09T13:13:07.763594Z",
     "iopub.status.idle": "2021-09-09T13:13:07.778839Z",
     "shell.execute_reply": "2021-09-09T13:13:07.777945Z",
     "shell.execute_reply.started": "2021-09-09T13:13:07.766375Z"
    }
   },
   "outputs": [],
   "source": [
    "train_data.drop(['PoolQC', 'MiscFeature', 'Alley', 'Fence','GarageYrBlt'], axis = 1, inplace = True)\n",
    "test_data.drop(['PoolQC', 'MiscFeature', 'Alley', 'Fence','GarageYrBlt'], axis = 1, inplace = True)"
   ]
  },
  {
   "cell_type": "code",
   "execution_count": null,
   "metadata": {
    "execution": {
     "iopub.execute_input": "2021-09-09T13:13:07.784854Z",
     "iopub.status.busy": "2021-09-09T13:13:07.782726Z",
     "iopub.status.idle": "2021-09-09T13:13:07.821907Z",
     "shell.execute_reply": "2021-09-09T13:13:07.820774Z",
     "shell.execute_reply.started": "2021-09-09T13:13:07.783218Z"
    }
   },
   "outputs": [],
   "source": [
    "train_data['FireplaceQu'] = train_data['FireplaceQu'].fillna(train_data['FireplaceQu'].dropna().mode()[0])\n",
    "train_data['LotFrontage'] = train_data['LotFrontage'].fillna(train_data['LotFrontage'].dropna().mode()[0])\n",
    "train_data['GarageCond'] = train_data['GarageCond'].fillna(train_data['GarageCond'].dropna().mode()[0])\n",
    "train_data['GarageType'] = train_data['GarageType'].fillna(train_data['GarageType'].dropna().mode()[0])\n",
    "train_data['GarageFinish'] = train_data['GarageFinish'].fillna(train_data['GarageFinish'].dropna().mode()[0])\n",
    "train_data['GarageQual'] = train_data['GarageQual'].fillna(train_data['GarageQual'].dropna().mode()[0])\n",
    "train_data['BsmtFinType2'] = train_data['BsmtFinType2'].fillna(train_data['BsmtFinType2'].dropna().mode()[0])\n",
    "train_data['BsmtExposure'] = train_data['BsmtExposure'].fillna(train_data['BsmtExposure'].dropna().mode()[0])\n",
    "train_data['BsmtQual'] = train_data['BsmtQual'].fillna(train_data['BsmtQual'].dropna().mode()[0])\n",
    "train_data['BsmtCond'] = train_data['BsmtCond'].fillna(train_data['BsmtCond'].dropna().mode()[0])\n",
    "train_data['BsmtFinType1'] = train_data['BsmtFinType1'].fillna(train_data['BsmtFinType1'].dropna().mode()[0])\n",
    "train_data['MasVnrArea'] = train_data['MasVnrArea'].fillna(train_data['MasVnrArea'].dropna().mode()[0])\n",
    "train_data['MasVnrType'] = train_data['MasVnrType'].fillna(train_data['MasVnrType'].dropna().mode()[0])\n",
    "train_data['Electrical'] = train_data['Electrical'].fillna(train_data['Electrical'].dropna().mode()[0])"
   ]
  },
  {
   "cell_type": "code",
   "execution_count": null,
   "metadata": {
    "execution": {
     "iopub.execute_input": "2021-09-09T13:13:07.828166Z",
     "iopub.status.busy": "2021-09-09T13:13:07.826054Z",
     "iopub.status.idle": "2021-09-09T13:13:07.853253Z",
     "shell.execute_reply": "2021-09-09T13:13:07.852405Z",
     "shell.execute_reply.started": "2021-09-09T13:13:07.828098Z"
    }
   },
   "outputs": [],
   "source": [
    "train_data.isnull().sum().sort_values(ascending=False)"
   ]
  },
  {
   "cell_type": "code",
   "execution_count": null,
   "metadata": {
    "execution": {
     "iopub.execute_input": "2021-09-09T13:13:07.85864Z",
     "iopub.status.busy": "2021-09-09T13:13:07.856679Z",
     "iopub.status.idle": "2021-09-09T13:13:07.879916Z",
     "shell.execute_reply": "2021-09-09T13:13:07.879086Z",
     "shell.execute_reply.started": "2021-09-09T13:13:07.8586Z"
    }
   },
   "outputs": [],
   "source": [
    "test_data.isnull().sum().sort_values(ascending=False)"
   ]
  },
  {
   "cell_type": "code",
   "execution_count": null,
   "metadata": {
    "execution": {
     "iopub.execute_input": "2021-09-09T13:13:07.885667Z",
     "iopub.status.busy": "2021-09-09T13:13:07.883723Z",
     "iopub.status.idle": "2021-09-09T13:13:07.945271Z",
     "shell.execute_reply": "2021-09-09T13:13:07.94443Z",
     "shell.execute_reply.started": "2021-09-09T13:13:07.885593Z"
    }
   },
   "outputs": [],
   "source": [
    "test_data['FireplaceQu'] = test_data['FireplaceQu'].fillna(test_data['FireplaceQu'].dropna().mode()[0])\n",
    "test_data['LotFrontage'] = test_data['LotFrontage'].fillna(test_data['LotFrontage'].dropna().mode()[0])\n",
    "test_data['GarageCond'] = test_data['GarageCond'].fillna(test_data['GarageCond'].dropna().mode()[0])\n",
    "test_data['GarageType'] = test_data['GarageType'].fillna(test_data['GarageType'].dropna().mode()[0])\n",
    "test_data['GarageFinish'] = test_data['GarageFinish'].fillna(test_data['GarageFinish'].dropna().mode()[0])\n",
    "test_data['GarageQual'] = test_data['GarageQual'].fillna(test_data['GarageQual'].dropna().mode()[0])\n",
    "test_data['BsmtFinType2'] = test_data['BsmtFinType2'].fillna(test_data['BsmtFinType2'].dropna().mode()[0])\n",
    "test_data['BsmtExposure'] = test_data['BsmtExposure'].fillna(test_data['BsmtExposure'].dropna().mode()[0])\n",
    "test_data['BsmtQual'] = test_data['BsmtQual'].fillna(test_data['BsmtQual'].dropna().mode()[0])\n",
    "test_data['BsmtCond'] = test_data['BsmtCond'].fillna(test_data['BsmtCond'].dropna().mode()[0])\n",
    "test_data['BsmtFinType1'] = test_data['BsmtFinType1'].fillna(test_data['BsmtFinType1'].dropna().mode()[0])\n",
    "test_data['MasVnrArea'] = test_data['MasVnrArea'].fillna(test_data['MasVnrArea'].dropna().mode()[0])\n",
    "test_data['MasVnrType'] = test_data['MasVnrType'].fillna(test_data['MasVnrType'].dropna().mode()[0])\n",
    "test_data['MSZoning'] = test_data['MSZoning'].fillna(test_data['MSZoning'].dropna().mode()[0])\n",
    "test_data['BsmtHalfBath'] = test_data['BsmtHalfBath'].fillna(test_data['BsmtHalfBath'].dropna().mode()[0])\n",
    "test_data['Functional'] = test_data['Functional'].fillna(test_data['Functional'].dropna().mode()[0])\n",
    "test_data['BsmtFullBath'] = test_data['BsmtFullBath'].fillna(test_data['BsmtFullBath'].dropna().mode()[0])\n",
    "test_data['Utilities'] = test_data['Utilities'].fillna(test_data['Utilities'].dropna().mode()[0])\n",
    "test_data['Exterior1st'] = test_data['Exterior1st'].fillna(test_data['Exterior1st'].dropna().mode()[0])\n",
    "test_data['Exterior2nd'] = test_data['Exterior2nd'].fillna(test_data['Exterior2nd'].dropna().mode()[0])\n",
    "test_data['KitchenQual'] = test_data['KitchenQual'].fillna(test_data['KitchenQual'].dropna().mode()[0])\n",
    "test_data['SaleType'] = test_data['SaleType'].fillna(test_data['SaleType'].dropna().mode()[0])"
   ]
  },
  {
   "cell_type": "code",
   "execution_count": null,
   "metadata": {
    "execution": {
     "iopub.execute_input": "2021-09-09T13:13:07.951168Z",
     "iopub.status.busy": "2021-09-09T13:13:07.949107Z",
     "iopub.status.idle": "2021-09-09T13:13:07.965222Z",
     "shell.execute_reply": "2021-09-09T13:13:07.964268Z",
     "shell.execute_reply.started": "2021-09-09T13:13:07.951091Z"
    }
   },
   "outputs": [],
   "source": [
    "test_data['BsmtFinSF1'] = test_data['BsmtFinSF1'].fillna(test_data['BsmtFinSF1'].dropna().mean())\n",
    "test_data['BsmtFinSF2'] = test_data['BsmtFinSF2'].fillna(test_data['BsmtFinSF2'].dropna().mean())\n",
    "test_data['BsmtUnfSF'] = test_data['BsmtUnfSF'].fillna(test_data['BsmtUnfSF'].dropna().mean())\n",
    "test_data['TotalBsmtSF'] = test_data['TotalBsmtSF'].fillna(test_data['TotalBsmtSF'].dropna().mean())\n",
    "test_data['GarageCars'] = test_data['GarageCars'].fillna(test_data['GarageCars'].dropna().mean())\n",
    "test_data['GarageArea'] = test_data['GarageArea'].fillna(test_data['GarageArea'].dropna().mean())"
   ]
  },
  {
   "cell_type": "code",
   "execution_count": null,
   "metadata": {
    "execution": {
     "iopub.execute_input": "2021-09-09T13:13:07.971854Z",
     "iopub.status.busy": "2021-09-09T13:13:07.969404Z",
     "iopub.status.idle": "2021-09-09T13:13:07.994748Z",
     "shell.execute_reply": "2021-09-09T13:13:07.994019Z",
     "shell.execute_reply.started": "2021-09-09T13:13:07.971814Z"
    }
   },
   "outputs": [],
   "source": [
    "test_data.isnull().sum().sort_values(ascending=False)"
   ]
  },
  {
   "cell_type": "code",
   "execution_count": null,
   "metadata": {
    "execution": {
     "iopub.execute_input": "2021-09-09T13:13:08.000475Z",
     "iopub.status.busy": "2021-09-09T13:13:07.9984Z",
     "iopub.status.idle": "2021-09-09T13:13:08.035719Z",
     "shell.execute_reply": "2021-09-09T13:13:08.03488Z",
     "shell.execute_reply.started": "2021-09-09T13:13:08.000435Z"
    }
   },
   "outputs": [],
   "source": [
    "train_data.info()"
   ]
  },
  {
   "cell_type": "code",
   "execution_count": null,
   "metadata": {
    "execution": {
     "iopub.execute_input": "2021-09-09T13:13:08.041455Z",
     "iopub.status.busy": "2021-09-09T13:13:08.039411Z",
     "iopub.status.idle": "2021-09-09T13:13:08.075255Z",
     "shell.execute_reply": "2021-09-09T13:13:08.074485Z",
     "shell.execute_reply.started": "2021-09-09T13:13:08.041416Z"
    }
   },
   "outputs": [],
   "source": [
    "test_data.info()"
   ]
  },
  {
   "cell_type": "code",
   "execution_count": null,
   "metadata": {
    "execution": {
     "iopub.execute_input": "2021-09-09T13:13:08.080957Z",
     "iopub.status.busy": "2021-09-09T13:13:08.078867Z",
     "iopub.status.idle": "2021-09-09T13:13:08.173802Z",
     "shell.execute_reply": "2021-09-09T13:13:08.173002Z",
     "shell.execute_reply.started": "2021-09-09T13:13:08.080918Z"
    }
   },
   "outputs": [],
   "source": [
    "train_data.corr()"
   ]
  },
  {
   "cell_type": "code",
   "execution_count": null,
   "metadata": {
    "execution": {
     "iopub.execute_input": "2021-09-09T13:13:08.179499Z",
     "iopub.status.busy": "2021-09-09T13:13:08.177409Z",
     "iopub.status.idle": "2021-09-09T13:13:15.135161Z",
     "shell.execute_reply": "2021-09-09T13:13:15.134424Z",
     "shell.execute_reply.started": "2021-09-09T13:13:08.179459Z"
    }
   },
   "outputs": [],
   "source": [
    "plt.figure(figsize=(35,15))\n",
    "a = sns.heatmap(train_data.corr(), annot=True, fmt='.1f')\n",
    "sns.heatmap(train_data.corr())"
   ]
  },
  {
   "cell_type": "markdown",
   "metadata": {},
   "source": [
    "### Concatenating train and test data and doing one hot encoding for categorical data"
   ]
  },
  {
   "cell_type": "code",
   "execution_count": null,
   "metadata": {
    "execution": {
     "iopub.execute_input": "2021-09-09T13:13:15.136515Z",
     "iopub.status.busy": "2021-09-09T13:13:15.136193Z",
     "iopub.status.idle": "2021-09-09T13:13:15.221847Z",
     "shell.execute_reply": "2021-09-09T13:13:15.220899Z",
     "shell.execute_reply.started": "2021-09-09T13:13:15.13648Z"
    }
   },
   "outputs": [],
   "source": [
    "final_df = pd.concat([train_data,test_data],axis=0)\n",
    "final_df"
   ]
  },
  {
   "cell_type": "code",
   "execution_count": null,
   "metadata": {
    "execution": {
     "iopub.execute_input": "2021-09-09T13:13:15.223647Z",
     "iopub.status.busy": "2021-09-09T13:13:15.22329Z",
     "iopub.status.idle": "2021-09-09T13:13:15.230819Z",
     "shell.execute_reply": "2021-09-09T13:13:15.229798Z",
     "shell.execute_reply.started": "2021-09-09T13:13:15.223611Z"
    }
   },
   "outputs": [],
   "source": [
    "def category(multcolumns):\n",
    "    df_final=final_df\n",
    "    i=0\n",
    "    for fields in multcolumns:\n",
    "        \n",
    "        print(fields)\n",
    "        df1=pd.get_dummies(final_df[fields],drop_first=True)\n",
    "        \n",
    "        final_df.drop([fields],axis=1,inplace=True)\n",
    "        if i==0:\n",
    "            df_final=df1.copy()\n",
    "        else:\n",
    "            \n",
    "            df_final=pd.concat([df_final,df1],axis=1)\n",
    "        i=i+1\n",
    "       \n",
    "        \n",
    "    df_final=pd.concat([final_df,df_final],axis=1)\n",
    "        \n",
    "    return df_final"
   ]
  },
  {
   "cell_type": "code",
   "execution_count": null,
   "metadata": {
    "execution": {
     "iopub.execute_input": "2021-09-09T13:13:15.236768Z",
     "iopub.status.busy": "2021-09-09T13:13:15.23634Z",
     "iopub.status.idle": "2021-09-09T13:13:15.243263Z",
     "shell.execute_reply": "2021-09-09T13:13:15.242144Z",
     "shell.execute_reply.started": "2021-09-09T13:13:15.236737Z"
    }
   },
   "outputs": [],
   "source": [
    "cat_feature = [feature for feature in train_data.columns if train_data[feature].dtype==\"O\"]\n",
    "len(cat_feature)"
   ]
  },
  {
   "cell_type": "code",
   "execution_count": null,
   "metadata": {
    "execution": {
     "iopub.execute_input": "2021-09-09T13:13:15.246602Z",
     "iopub.status.busy": "2021-09-09T13:13:15.245926Z",
     "iopub.status.idle": "2021-09-09T13:13:15.374447Z",
     "shell.execute_reply": "2021-09-09T13:13:15.373618Z",
     "shell.execute_reply.started": "2021-09-09T13:13:15.246563Z"
    }
   },
   "outputs": [],
   "source": [
    "final_df = category(cat_feature)"
   ]
  },
  {
   "cell_type": "code",
   "execution_count": null,
   "metadata": {
    "execution": {
     "iopub.execute_input": "2021-09-09T13:13:15.376044Z",
     "iopub.status.busy": "2021-09-09T13:13:15.375699Z",
     "iopub.status.idle": "2021-09-09T13:13:15.385676Z",
     "shell.execute_reply": "2021-09-09T13:13:15.384485Z",
     "shell.execute_reply.started": "2021-09-09T13:13:15.376008Z"
    }
   },
   "outputs": [],
   "source": [
    "final_df.shape"
   ]
  },
  {
   "cell_type": "code",
   "execution_count": null,
   "metadata": {
    "execution": {
     "iopub.execute_input": "2021-09-09T13:13:15.388556Z",
     "iopub.status.busy": "2021-09-09T13:13:15.388198Z",
     "iopub.status.idle": "2021-09-09T13:13:15.392973Z",
     "shell.execute_reply": "2021-09-09T13:13:15.391897Z",
     "shell.execute_reply.started": "2021-09-09T13:13:15.388521Z"
    }
   },
   "outputs": [],
   "source": [
    "train_df = final_df.iloc[:1460,:]\n",
    "test_df= final_df.iloc[1460:,:]"
   ]
  },
  {
   "cell_type": "code",
   "execution_count": null,
   "metadata": {
    "execution": {
     "iopub.execute_input": "2021-09-09T13:13:15.395075Z",
     "iopub.status.busy": "2021-09-09T13:13:15.394575Z",
     "iopub.status.idle": "2021-09-09T13:13:15.56544Z",
     "shell.execute_reply": "2021-09-09T13:13:15.564482Z",
     "shell.execute_reply.started": "2021-09-09T13:13:15.395037Z"
    }
   },
   "outputs": [],
   "source": [
    "train_df"
   ]
  },
  {
   "cell_type": "code",
   "execution_count": null,
   "metadata": {
    "execution": {
     "iopub.execute_input": "2021-09-09T13:13:15.567189Z",
     "iopub.status.busy": "2021-09-09T13:13:15.566842Z",
     "iopub.status.idle": "2021-09-09T13:13:15.631729Z",
     "shell.execute_reply": "2021-09-09T13:13:15.630858Z",
     "shell.execute_reply.started": "2021-09-09T13:13:15.567153Z"
    }
   },
   "outputs": [],
   "source": [
    "test_df"
   ]
  },
  {
   "cell_type": "code",
   "execution_count": null,
   "metadata": {
    "execution": {
     "iopub.execute_input": "2021-09-09T13:13:15.63338Z",
     "iopub.status.busy": "2021-09-09T13:13:15.633039Z",
     "iopub.status.idle": "2021-09-09T13:13:15.645218Z",
     "shell.execute_reply": "2021-09-09T13:13:15.644239Z",
     "shell.execute_reply.started": "2021-09-09T13:13:15.633348Z"
    },
    "scrolled": true
   },
   "outputs": [],
   "source": [
    "test_df.drop([\"SalePrice\"],axis=1,inplace=True)"
   ]
  },
  {
   "cell_type": "code",
   "execution_count": null,
   "metadata": {
    "execution": {
     "iopub.execute_input": "2021-09-09T13:13:15.647202Z",
     "iopub.status.busy": "2021-09-09T13:13:15.646739Z",
     "iopub.status.idle": "2021-09-09T13:13:15.653079Z",
     "shell.execute_reply": "2021-09-09T13:13:15.652235Z",
     "shell.execute_reply.started": "2021-09-09T13:13:15.647167Z"
    }
   },
   "outputs": [],
   "source": [
    "tId = test_df[\"Id\"]"
   ]
  },
  {
   "cell_type": "code",
   "execution_count": null,
   "metadata": {
    "execution": {
     "iopub.execute_input": "2021-09-09T13:13:15.654759Z",
     "iopub.status.busy": "2021-09-09T13:13:15.654252Z",
     "iopub.status.idle": "2021-09-09T13:13:15.671697Z",
     "shell.execute_reply": "2021-09-09T13:13:15.670771Z",
     "shell.execute_reply.started": "2021-09-09T13:13:15.654722Z"
    }
   },
   "outputs": [],
   "source": [
    "X_train=train_df.drop(['SalePrice'],axis=1)\n",
    "Y_train=train_df['SalePrice']"
   ]
  },
  {
   "cell_type": "markdown",
   "metadata": {},
   "source": [
    "### Scaling the data"
   ]
  },
  {
   "cell_type": "code",
   "execution_count": null,
   "metadata": {
    "execution": {
     "iopub.execute_input": "2021-09-09T13:13:15.67345Z",
     "iopub.status.busy": "2021-09-09T13:13:15.673058Z",
     "iopub.status.idle": "2021-09-09T13:13:15.794664Z",
     "shell.execute_reply": "2021-09-09T13:13:15.79386Z",
     "shell.execute_reply.started": "2021-09-09T13:13:15.673412Z"
    }
   },
   "outputs": [],
   "source": [
    "from sklearn.preprocessing import StandardScaler\n",
    "sc = StandardScaler()\n",
    "X_train = sc.fit_transform(X_train)\n",
    "test_df = sc.transform(test_df)"
   ]
  },
  {
   "cell_type": "code",
   "execution_count": null,
   "metadata": {
    "execution": {
     "iopub.execute_input": "2021-09-09T13:13:15.796915Z",
     "iopub.status.busy": "2021-09-09T13:13:15.796667Z",
     "iopub.status.idle": "2021-09-09T13:13:15.807591Z",
     "shell.execute_reply": "2021-09-09T13:13:15.806784Z",
     "shell.execute_reply.started": "2021-09-09T13:13:15.79689Z"
    },
    "scrolled": true
   },
   "outputs": [],
   "source": [
    "X_train"
   ]
  },
  {
   "cell_type": "code",
   "execution_count": null,
   "metadata": {
    "execution": {
     "iopub.execute_input": "2021-09-09T13:13:15.811041Z",
     "iopub.status.busy": "2021-09-09T13:13:15.810793Z",
     "iopub.status.idle": "2021-09-09T13:13:15.820279Z",
     "shell.execute_reply": "2021-09-09T13:13:15.81927Z",
     "shell.execute_reply.started": "2021-09-09T13:13:15.811018Z"
    }
   },
   "outputs": [],
   "source": [
    "test_df "
   ]
  },
  {
   "cell_type": "markdown",
   "metadata": {},
   "source": [
    "### Using linear regression on the data"
   ]
  },
  {
   "cell_type": "code",
   "execution_count": null,
   "metadata": {
    "execution": {
     "iopub.execute_input": "2021-09-09T13:13:15.823546Z",
     "iopub.status.busy": "2021-09-09T13:13:15.823309Z",
     "iopub.status.idle": "2021-09-09T13:13:16.138937Z",
     "shell.execute_reply": "2021-09-09T13:13:16.138301Z",
     "shell.execute_reply.started": "2021-09-09T13:13:15.823523Z"
    }
   },
   "outputs": [],
   "source": [
    "from sklearn.linear_model import LinearRegression\n",
    "reg = LinearRegression()\n",
    "reg.fit(X_train,Y_train)"
   ]
  },
  {
   "cell_type": "code",
   "execution_count": null,
   "metadata": {
    "execution": {
     "iopub.execute_input": "2021-09-09T13:13:16.1419Z",
     "iopub.status.busy": "2021-09-09T13:13:16.141639Z",
     "iopub.status.idle": "2021-09-09T13:13:16.15492Z",
     "shell.execute_reply": "2021-09-09T13:13:16.154158Z",
     "shell.execute_reply.started": "2021-09-09T13:13:16.141867Z"
    }
   },
   "outputs": [],
   "source": [
    "reg.coef_"
   ]
  },
  {
   "cell_type": "code",
   "execution_count": null,
   "metadata": {
    "execution": {
     "iopub.execute_input": "2021-09-09T13:13:16.157969Z",
     "iopub.status.busy": "2021-09-09T13:13:16.157707Z",
     "iopub.status.idle": "2021-09-09T13:13:16.166405Z",
     "shell.execute_reply": "2021-09-09T13:13:16.165575Z",
     "shell.execute_reply.started": "2021-09-09T13:13:16.157944Z"
    }
   },
   "outputs": [],
   "source": [
    "reg.intercept_"
   ]
  },
  {
   "cell_type": "code",
   "execution_count": null,
   "metadata": {
    "execution": {
     "iopub.execute_input": "2021-09-09T13:13:16.169864Z",
     "iopub.status.busy": "2021-09-09T13:13:16.169628Z",
     "iopub.status.idle": "2021-09-09T13:13:16.18201Z",
     "shell.execute_reply": "2021-09-09T13:13:16.181096Z",
     "shell.execute_reply.started": "2021-09-09T13:13:16.169839Z"
    },
    "scrolled": true
   },
   "outputs": [],
   "source": [
    "reg.score(X_train,Y_train)"
   ]
  },
  {
   "cell_type": "code",
   "execution_count": null,
   "metadata": {
    "execution": {
     "iopub.execute_input": "2021-09-09T13:13:16.186521Z",
     "iopub.status.busy": "2021-09-09T13:13:16.186133Z",
     "iopub.status.idle": "2021-09-09T13:13:16.194357Z",
     "shell.execute_reply": "2021-09-09T13:13:16.193144Z",
     "shell.execute_reply.started": "2021-09-09T13:13:16.186484Z"
    }
   },
   "outputs": [],
   "source": [
    "result = reg.predict(X_train)"
   ]
  },
  {
   "cell_type": "markdown",
   "metadata": {},
   "source": [
    "### Comparing the actual and predicted values from the data"
   ]
  },
  {
   "cell_type": "code",
   "execution_count": null,
   "metadata": {
    "execution": {
     "iopub.execute_input": "2021-09-09T13:13:16.199745Z",
     "iopub.status.busy": "2021-09-09T13:13:16.199316Z",
     "iopub.status.idle": "2021-09-09T13:13:16.245105Z",
     "shell.execute_reply": "2021-09-09T13:13:16.244232Z",
     "shell.execute_reply.started": "2021-09-09T13:13:16.199705Z"
    }
   },
   "outputs": [],
   "source": [
    "tst_data = pd.DataFrame()\n",
    "tst_data['Actual Values'] = Y_train\n",
    "tst_data['Predicted_values'] = result\n",
    "tst_data"
   ]
  },
  {
   "cell_type": "code",
   "execution_count": null,
   "metadata": {
    "execution": {
     "iopub.execute_input": "2021-09-09T13:13:16.2497Z",
     "iopub.status.busy": "2021-09-09T13:13:16.249332Z",
     "iopub.status.idle": "2021-09-09T13:13:16.471924Z",
     "shell.execute_reply": "2021-09-09T13:13:16.471207Z",
     "shell.execute_reply.started": "2021-09-09T13:13:16.249663Z"
    }
   },
   "outputs": [],
   "source": [
    "plt.figure(figsize = (6,4))\n",
    "plt.plot(Y_train, 'o', color = 'blue', label = 'Actual Values')\n",
    "plt.plot(result, color = 'green', label = 'Predicted Values')\n",
    "plt.legend()"
   ]
  },
  {
   "cell_type": "markdown",
   "metadata": {},
   "source": [
    "### Final predictions"
   ]
  },
  {
   "cell_type": "code",
   "execution_count": null,
   "metadata": {
    "execution": {
     "iopub.execute_input": "2021-09-09T13:13:16.473542Z",
     "iopub.status.busy": "2021-09-09T13:13:16.473181Z",
     "iopub.status.idle": "2021-09-09T13:13:16.482375Z",
     "shell.execute_reply": "2021-09-09T13:13:16.481344Z",
     "shell.execute_reply.started": "2021-09-09T13:13:16.473506Z"
    }
   },
   "outputs": [],
   "source": [
    "Y_pred = reg.predict(test_df)"
   ]
  },
  {
   "cell_type": "markdown",
   "metadata": {},
   "source": [
    "### Exporting the data into a csv file"
   ]
  },
  {
   "cell_type": "code",
   "execution_count": null,
   "metadata": {
    "execution": {
     "iopub.execute_input": "2021-09-09T13:13:16.487469Z",
     "iopub.status.busy": "2021-09-09T13:13:16.486818Z",
     "iopub.status.idle": "2021-09-09T13:13:16.500179Z",
     "shell.execute_reply": "2021-09-09T13:13:16.499168Z",
     "shell.execute_reply.started": "2021-09-09T13:13:16.487428Z"
    }
   },
   "outputs": [],
   "source": [
    "lst = tId\n",
    "lst2 = list(Y_pred)\n",
    "df = pd.DataFrame(list(zip(lst, lst2)),\n",
    "               columns =['Id', 'SalePrice'])"
   ]
  },
  {
   "cell_type": "code",
   "execution_count": null,
   "metadata": {
    "execution": {
     "iopub.execute_input": "2021-09-09T13:13:16.507471Z",
     "iopub.status.busy": "2021-09-09T13:13:16.505223Z",
     "iopub.status.idle": "2021-09-09T13:13:16.527159Z",
     "shell.execute_reply": "2021-09-09T13:13:16.526242Z",
     "shell.execute_reply.started": "2021-09-09T13:13:16.507421Z"
    }
   },
   "outputs": [],
   "source": [
    "df.to_csv('result.csv',index=False)"
   ]
  },
  {
   "cell_type": "code",
   "execution_count": null,
   "metadata": {},
   "outputs": [],
   "source": []
  }
 ],
 "metadata": {
  "kernelspec": {
   "display_name": "Python 3",
   "language": "python",
   "name": "python3"
  },
  "language_info": {
   "codemirror_mode": {
    "name": "ipython",
    "version": 3
   },
   "file_extension": ".py",
   "mimetype": "text/x-python",
   "name": "python",
   "nbconvert_exporter": "python",
   "pygments_lexer": "ipython3",
   "version": "3.8.8"
  }
 },
 "nbformat": 4,
 "nbformat_minor": 4
}
